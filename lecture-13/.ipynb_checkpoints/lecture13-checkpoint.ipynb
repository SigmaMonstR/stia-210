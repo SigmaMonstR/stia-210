{
 "cells": [
  {
   "cell_type": "markdown",
   "metadata": {},
   "source": [
    "## Python for Data Science, the basics\n",
    "\n",
    "The objective of this section is to introduce some basic concepts in Python that are especially relevant to data science for public policy.  Many of these examples have been assembled from existing tutorials.  "
   ]
  },
  {
   "cell_type": "markdown",
   "metadata": {},
   "source": [
    "### Functions\n",
    "\n",
    "Python functions are not all that different from `R` functions.  The syntax to declare a function is slightly different.  Python uses the `def` keyword to start a function, here is the syntax:\n",
    "\n",
    "```python\n",
    "def function_name(arg1, arg2, arg3, .... argN):\n",
    "     #statement inside function\n",
    "```\n",
    "\n",
    "**Note**: All the statements inside the function should be indented using equal spaces. Function can accept zero or more arguments(also known as parameters) enclosed in parentheses. You can also omit the body of the function using the  pass keyword, like this:\n",
    "\n",
    "```python\n",
    "def myfunc():\n",
    "    pass\n",
    "```\n",
    "\n",
    "Here is an example that calculates the running sum between the supplied arguments.  The function updates `result` .  Note also that Python, unlike `R`, is zero-indexed and not inclusive of the end argument (hence the `end + 1` in `range`)."
   ]
  },
  {
   "cell_type": "code",
   "execution_count": 2,
   "metadata": {
    "collapsed": false
   },
   "outputs": [
    {
     "name": "stdout",
     "output_type": "stream",
     "text": [
      "\n",
      "The sum is:\n",
      "1230\n",
      "\n",
      "The sum is: 1230\n"
     ]
    }
   ],
   "source": [
    "def mysum(start, end):\n",
    "    result = 0\n",
    "    for i in range(start, end + 1):\n",
    "        result += i\n",
    "\n",
    "    # one way to print the result, note the comment syntax\n",
    "    print(\"\")\n",
    "    print(\"The sum is:\")\n",
    "    print(result)\n",
    "    \n",
    "    # another way to print the same result\n",
    "    print(\"\\nThe sum is: %s\" % result)\n",
    "\n",
    "mysum(10, 50)"
   ]
  },
  {
   "cell_type": "markdown",
   "metadata": {},
   "source": [
    "The above function simply prints the result to the console, what if we want to assign the result to a variable for further processing? Then we need to use the `return` statement. The `return` statement sends a result back to the caller and exits the function."
   ]
  },
  {
   "cell_type": "code",
   "execution_count": 3,
   "metadata": {
    "collapsed": false
   },
   "outputs": [
    {
     "name": "stdout",
     "output_type": "stream",
     "text": [
      "1230\n"
     ]
    }
   ],
   "source": [
    "def mysum(start, end):\n",
    "    result = 0\n",
    "    for i in range(start, end + 1):\n",
    "        result += i\n",
    "    return result\n",
    "\n",
    "s = mysum(10, 50)\n",
    "print(s)"
   ]
  },
  {
   "cell_type": "code",
   "execution_count": 4,
   "metadata": {
    "collapsed": false,
    "scrolled": true
   },
   "outputs": [
    {
     "name": "stdout",
     "output_type": "stream",
     "text": [
      "start should be less than end\n",
      "None\n"
     ]
    }
   ],
   "source": [
    "def mysum(start, end):\n",
    "    if(start > end):\n",
    "        print(\"start should be less than end\")\n",
    "        return    # here we are not returning any value so a special value None is returned\n",
    "    \n",
    "    result = 0\n",
    "    for i in range(start, end + 1):\n",
    "        result += i\n",
    "    return result\n",
    "\n",
    "s = mysum(110, 50)\n",
    "print(s)"
   ]
  },
  {
   "cell_type": "markdown",
   "metadata": {},
   "source": [
    "You can also raise `Exceptions` to either stop the process or do specific things based on the type of exception."
   ]
  },
  {
   "cell_type": "code",
   "execution_count": 7,
   "metadata": {
    "collapsed": false
   },
   "outputs": [
    {
     "ename": "Exception",
     "evalue": "What sort of backwards world do you think we live in?",
     "output_type": "error",
     "traceback": [
      "\u001b[0;31m---------------------------------------------------------------------------\u001b[0m",
      "\u001b[0;31mException\u001b[0m                                 Traceback (most recent call last)",
      "\u001b[0;32m<ipython-input-7-4971936db0f3>\u001b[0m in \u001b[0;36m<module>\u001b[0;34m()\u001b[0m\n\u001b[1;32m      8\u001b[0m     \u001b[0;32mreturn\u001b[0m \u001b[0mresult\u001b[0m\u001b[0;34m\u001b[0m\u001b[0m\n\u001b[1;32m      9\u001b[0m \u001b[0;34m\u001b[0m\u001b[0m\n\u001b[0;32m---> 10\u001b[0;31m \u001b[0ms\u001b[0m \u001b[0;34m=\u001b[0m \u001b[0mmysum\u001b[0m\u001b[0;34m(\u001b[0m\u001b[0;36m110\u001b[0m\u001b[0;34m,\u001b[0m \u001b[0;36m50\u001b[0m\u001b[0;34m)\u001b[0m\u001b[0;34m\u001b[0m\u001b[0m\n\u001b[0m\u001b[1;32m     11\u001b[0m \u001b[0;32mprint\u001b[0m\u001b[0;34m(\u001b[0m\u001b[0ms\u001b[0m\u001b[0;34m)\u001b[0m\u001b[0;34m\u001b[0m\u001b[0m\n",
      "\u001b[0;32m<ipython-input-7-4971936db0f3>\u001b[0m in \u001b[0;36mmysum\u001b[0;34m(start, end)\u001b[0m\n\u001b[1;32m      1\u001b[0m \u001b[0;32mdef\u001b[0m \u001b[0mmysum\u001b[0m\u001b[0;34m(\u001b[0m\u001b[0mstart\u001b[0m\u001b[0;34m,\u001b[0m \u001b[0mend\u001b[0m\u001b[0;34m)\u001b[0m\u001b[0;34m:\u001b[0m\u001b[0;34m\u001b[0m\u001b[0m\n\u001b[1;32m      2\u001b[0m     \u001b[0;32mif\u001b[0m\u001b[0;34m(\u001b[0m\u001b[0mstart\u001b[0m \u001b[0;34m>\u001b[0m \u001b[0mend\u001b[0m\u001b[0;34m)\u001b[0m\u001b[0;34m:\u001b[0m\u001b[0;34m\u001b[0m\u001b[0m\n\u001b[0;32m----> 3\u001b[0;31m         \u001b[0;32mraise\u001b[0m \u001b[0mException\u001b[0m\u001b[0;34m(\u001b[0m\u001b[0;34m\"What sort of backwards world do you think we live in?\"\u001b[0m\u001b[0;34m)\u001b[0m\u001b[0;34m\u001b[0m\u001b[0m\n\u001b[0m\u001b[1;32m      4\u001b[0m \u001b[0;34m\u001b[0m\u001b[0m\n\u001b[1;32m      5\u001b[0m     \u001b[0mresult\u001b[0m \u001b[0;34m=\u001b[0m \u001b[0;36m0\u001b[0m\u001b[0;34m\u001b[0m\u001b[0m\n",
      "\u001b[0;31mException\u001b[0m: What sort of backwards world do you think we live in?"
     ]
    }
   ],
   "source": [
    "def mysum(start, end):\n",
    "    if(start > end):\n",
    "        raise Exception(\"What sort of backwards world do you think we live in?\")\n",
    "    \n",
    "    result = 0\n",
    "    for i in range(start, end + 1):\n",
    "        result += i\n",
    "    return result\n",
    "\n",
    "s = mysum(110, 50)\n",
    "print(s)"
   ]
  },
  {
   "cell_type": "markdown",
   "metadata": {},
   "source": [
    "**PRACTICE 1**: Write a function to calculate $x^y$ iteratively.  That is, you supply the argument `x` and multiply it by itself `y` times.  Bonus if you set the inital values appropriately and use the `ValueError` exception for negative `y` values."
   ]
  },
  {
   "cell_type": "code",
   "execution_count": null,
   "metadata": {
    "collapsed": true
   },
   "outputs": [],
   "source": [
    "# Insert answer here"
   ]
  },
  {
   "cell_type": "markdown",
   "metadata": {},
   "source": [
    "**PRACTICE 2**: Write a function to count the number of words in a supplied sentence.  Use the [`split()`](http://stackoverflow.com/questions/4071396/split-by-comma-and-strip-whitespace-in-python) method."
   ]
  },
  {
   "cell_type": "code",
   "execution_count": null,
   "metadata": {
    "collapsed": true
   },
   "outputs": [],
   "source": [
    "# Insert answer here"
   ]
  },
  {
   "cell_type": "markdown",
   "metadata": {},
   "source": [
    "### Pandas\n",
    "\n",
    "Python is used for many things, including web development, backend operations, and data science.  A few packages have been developed for Python that were specifically built to handle data types and operations that are common in data science.  The most notable is [`Pandas`](http://pandas.pydata.org/).  There are three basic datatype in pandas:\n",
    "\n",
    "1. **Series**: A one-dimensional labeled array capable of holding any data type (integers, strings, floating point numbers, Python objects, etc.).\n",
    "2. **DataFrame**: A 2-dimensional labeled data structure with columns of potentially different types. You can think of it like a spreadsheet or SQL table, or a dict of Series objects. It is generally the most commonly used pandas object. \n",
    "3. **Panel**: A somewhat less-used, but still important container for 3-dimensional data. The term panel data is derived from econometrics and is partially responsible for the name pandas: pan(el)-da(ta)-s. The names for the 3 axes are intended to give some semantic meaning to describing operations involving panel data and, in particular, econometric analysis of panel data.\n",
    "\n",
    "Note that the data structures are composed of themselves, with higher orders of complexity.  Here we start to explore the basics of interacting with pandas.  First, import the package.  You may have to install it, unless you used Anaconda to install Jupyter and Python."
   ]
  },
  {
   "cell_type": "code",
   "execution_count": 8,
   "metadata": {
    "collapsed": true
   },
   "outputs": [],
   "source": [
    "import pandas"
   ]
  },
  {
   "cell_type": "markdown",
   "metadata": {},
   "source": [
    "Create a Series by passing a list of values, letting pandas create a default integer index:"
   ]
  },
  {
   "cell_type": "code",
   "execution_count": 9,
   "metadata": {
    "collapsed": false
   },
   "outputs": [
    {
     "name": "stdout",
     "output_type": "stream",
     "text": [
      "0    1.0\n",
      "1    3.0\n",
      "2    5.0\n",
      "3    NaN\n",
      "4    6.0\n",
      "5    8.0\n",
      "dtype: float64\n"
     ]
    }
   ],
   "source": [
    "s = pandas.Series([1, 3, 5, None, 6, 8])\n",
    "print(s)"
   ]
  },
  {
   "cell_type": "markdown",
   "metadata": {},
   "source": [
    "Create a DataFrame by passing a numpy array, with a datetime index and labeled columns.  You will have to import `numpy` or numerical python to generate random numbers."
   ]
  },
  {
   "cell_type": "code",
   "execution_count": 10,
   "metadata": {
    "collapsed": false
   },
   "outputs": [
    {
     "name": "stdout",
     "output_type": "stream",
     "text": [
      "['A', 'B', 'C', 'D']\n"
     ]
    },
    {
     "data": {
      "text/plain": [
       "(6, 4)"
      ]
     },
     "execution_count": 10,
     "metadata": {},
     "output_type": "execute_result"
    }
   ],
   "source": [
    "import numpy\n",
    "\n",
    "dates = pandas.date_range('20130101', periods=6)\n",
    "columns = list('ABCD')\n",
    "randos = numpy.random.randn(6,4)\n",
    "print(columns)\n",
    "randos.shape"
   ]
  },
  {
   "cell_type": "code",
   "execution_count": 12,
   "metadata": {
    "collapsed": false,
    "scrolled": true
   },
   "outputs": [
    {
     "name": "stdout",
     "output_type": "stream",
     "text": [
      "A    float64\n",
      "B    float64\n",
      "C    float64\n",
      "D    float64\n",
      "dtype: object\n",
      "(6, 4)\n"
     ]
    },
    {
     "data": {
      "text/html": [
       "<div>\n",
       "<table border=\"1\" class=\"dataframe\">\n",
       "  <thead>\n",
       "    <tr style=\"text-align: right;\">\n",
       "      <th></th>\n",
       "      <th>A</th>\n",
       "      <th>B</th>\n",
       "      <th>C</th>\n",
       "      <th>D</th>\n",
       "    </tr>\n",
       "  </thead>\n",
       "  <tbody>\n",
       "    <tr>\n",
       "      <th>2013-01-01</th>\n",
       "      <td>1.343419</td>\n",
       "      <td>0.367837</td>\n",
       "      <td>-0.207296</td>\n",
       "      <td>2.071716</td>\n",
       "    </tr>\n",
       "    <tr>\n",
       "      <th>2013-01-02</th>\n",
       "      <td>1.913703</td>\n",
       "      <td>-0.747700</td>\n",
       "      <td>-2.543656</td>\n",
       "      <td>-1.347205</td>\n",
       "    </tr>\n",
       "    <tr>\n",
       "      <th>2013-01-03</th>\n",
       "      <td>-0.736990</td>\n",
       "      <td>-0.241838</td>\n",
       "      <td>0.642106</td>\n",
       "      <td>1.346430</td>\n",
       "    </tr>\n",
       "    <tr>\n",
       "      <th>2013-01-04</th>\n",
       "      <td>1.738009</td>\n",
       "      <td>-0.971304</td>\n",
       "      <td>0.111547</td>\n",
       "      <td>-0.302350</td>\n",
       "    </tr>\n",
       "    <tr>\n",
       "      <th>2013-01-05</th>\n",
       "      <td>2.152918</td>\n",
       "      <td>0.746074</td>\n",
       "      <td>-0.556313</td>\n",
       "      <td>-1.012012</td>\n",
       "    </tr>\n",
       "    <tr>\n",
       "      <th>2013-01-06</th>\n",
       "      <td>-0.225186</td>\n",
       "      <td>-1.473381</td>\n",
       "      <td>0.053223</td>\n",
       "      <td>2.110610</td>\n",
       "    </tr>\n",
       "  </tbody>\n",
       "</table>\n",
       "</div>"
      ],
      "text/plain": [
       "                   A         B         C         D\n",
       "2013-01-01  1.343419  0.367837 -0.207296  2.071716\n",
       "2013-01-02  1.913703 -0.747700 -2.543656 -1.347205\n",
       "2013-01-03 -0.736990 -0.241838  0.642106  1.346430\n",
       "2013-01-04  1.738009 -0.971304  0.111547 -0.302350\n",
       "2013-01-05  2.152918  0.746074 -0.556313 -1.012012\n",
       "2013-01-06 -0.225186 -1.473381  0.053223  2.110610"
      ]
     },
     "execution_count": 12,
     "metadata": {},
     "output_type": "execute_result"
    }
   ],
   "source": [
    "df = pandas.DataFrame(randos, index=dates, columns=columns)\n",
    "print(df.dtypes)\n",
    "print(df.shape)\n",
    "df"
   ]
  },
  {
   "cell_type": "markdown",
   "metadata": {},
   "source": [
    "Much like `R` you can view useful slices of the DataFrame using built-in functions.  You can also describe or summarize the data, transpose the data frame, sort values, and split the object into its components -- all using built-in functions."
   ]
  },
  {
   "cell_type": "code",
   "execution_count": 13,
   "metadata": {
    "collapsed": false
   },
   "outputs": [
    {
     "data": {
      "text/html": [
       "<div>\n",
       "<table border=\"1\" class=\"dataframe\">\n",
       "  <thead>\n",
       "    <tr style=\"text-align: right;\">\n",
       "      <th></th>\n",
       "      <th>A</th>\n",
       "      <th>B</th>\n",
       "      <th>C</th>\n",
       "      <th>D</th>\n",
       "    </tr>\n",
       "  </thead>\n",
       "  <tbody>\n",
       "    <tr>\n",
       "      <th>2013-01-01</th>\n",
       "      <td>1.343419</td>\n",
       "      <td>0.367837</td>\n",
       "      <td>-0.207296</td>\n",
       "      <td>2.071716</td>\n",
       "    </tr>\n",
       "    <tr>\n",
       "      <th>2013-01-02</th>\n",
       "      <td>1.913703</td>\n",
       "      <td>-0.747700</td>\n",
       "      <td>-2.543656</td>\n",
       "      <td>-1.347205</td>\n",
       "    </tr>\n",
       "    <tr>\n",
       "      <th>2013-01-03</th>\n",
       "      <td>-0.736990</td>\n",
       "      <td>-0.241838</td>\n",
       "      <td>0.642106</td>\n",
       "      <td>1.346430</td>\n",
       "    </tr>\n",
       "  </tbody>\n",
       "</table>\n",
       "</div>"
      ],
      "text/plain": [
       "                   A         B         C         D\n",
       "2013-01-01  1.343419  0.367837 -0.207296  2.071716\n",
       "2013-01-02  1.913703 -0.747700 -2.543656 -1.347205\n",
       "2013-01-03 -0.736990 -0.241838  0.642106  1.346430"
      ]
     },
     "execution_count": 13,
     "metadata": {},
     "output_type": "execute_result"
    }
   ],
   "source": [
    "df.head(3)"
   ]
  },
  {
   "cell_type": "code",
   "execution_count": 14,
   "metadata": {
    "collapsed": false,
    "scrolled": true
   },
   "outputs": [
    {
     "data": {
      "text/html": [
       "<div>\n",
       "<table border=\"1\" class=\"dataframe\">\n",
       "  <thead>\n",
       "    <tr style=\"text-align: right;\">\n",
       "      <th></th>\n",
       "      <th>A</th>\n",
       "      <th>B</th>\n",
       "      <th>C</th>\n",
       "      <th>D</th>\n",
       "    </tr>\n",
       "  </thead>\n",
       "  <tbody>\n",
       "    <tr>\n",
       "      <th>2013-01-05</th>\n",
       "      <td>2.152918</td>\n",
       "      <td>0.746074</td>\n",
       "      <td>-0.556313</td>\n",
       "      <td>-1.012012</td>\n",
       "    </tr>\n",
       "    <tr>\n",
       "      <th>2013-01-06</th>\n",
       "      <td>-0.225186</td>\n",
       "      <td>-1.473381</td>\n",
       "      <td>0.053223</td>\n",
       "      <td>2.110610</td>\n",
       "    </tr>\n",
       "  </tbody>\n",
       "</table>\n",
       "</div>"
      ],
      "text/plain": [
       "                   A         B         C         D\n",
       "2013-01-05  2.152918  0.746074 -0.556313 -1.012012\n",
       "2013-01-06 -0.225186 -1.473381  0.053223  2.110610"
      ]
     },
     "execution_count": 14,
     "metadata": {},
     "output_type": "execute_result"
    }
   ],
   "source": [
    "df.tail(2)"
   ]
  },
  {
   "cell_type": "code",
   "execution_count": 15,
   "metadata": {
    "collapsed": false
   },
   "outputs": [
    {
     "data": {
      "text/html": [
       "<div>\n",
       "<table border=\"1\" class=\"dataframe\">\n",
       "  <thead>\n",
       "    <tr style=\"text-align: right;\">\n",
       "      <th></th>\n",
       "      <th>A</th>\n",
       "      <th>B</th>\n",
       "      <th>C</th>\n",
       "      <th>D</th>\n",
       "    </tr>\n",
       "  </thead>\n",
       "  <tbody>\n",
       "    <tr>\n",
       "      <th>count</th>\n",
       "      <td>6.000000</td>\n",
       "      <td>6.000000</td>\n",
       "      <td>6.000000</td>\n",
       "      <td>6.000000</td>\n",
       "    </tr>\n",
       "    <tr>\n",
       "      <th>mean</th>\n",
       "      <td>1.030979</td>\n",
       "      <td>-0.386719</td>\n",
       "      <td>-0.416732</td>\n",
       "      <td>0.477865</td>\n",
       "    </tr>\n",
       "    <tr>\n",
       "      <th>std</th>\n",
       "      <td>1.211538</td>\n",
       "      <td>0.839815</td>\n",
       "      <td>1.114291</td>\n",
       "      <td>1.556918</td>\n",
       "    </tr>\n",
       "    <tr>\n",
       "      <th>min</th>\n",
       "      <td>-0.736990</td>\n",
       "      <td>-1.473381</td>\n",
       "      <td>-2.543656</td>\n",
       "      <td>-1.347205</td>\n",
       "    </tr>\n",
       "    <tr>\n",
       "      <th>25%</th>\n",
       "      <td>0.166965</td>\n",
       "      <td>-0.915403</td>\n",
       "      <td>-0.469059</td>\n",
       "      <td>-0.834596</td>\n",
       "    </tr>\n",
       "    <tr>\n",
       "      <th>50%</th>\n",
       "      <td>1.540714</td>\n",
       "      <td>-0.494769</td>\n",
       "      <td>-0.077036</td>\n",
       "      <td>0.522040</td>\n",
       "    </tr>\n",
       "    <tr>\n",
       "      <th>75%</th>\n",
       "      <td>1.869779</td>\n",
       "      <td>0.215418</td>\n",
       "      <td>0.096966</td>\n",
       "      <td>1.890394</td>\n",
       "    </tr>\n",
       "    <tr>\n",
       "      <th>max</th>\n",
       "      <td>2.152918</td>\n",
       "      <td>0.746074</td>\n",
       "      <td>0.642106</td>\n",
       "      <td>2.110610</td>\n",
       "    </tr>\n",
       "  </tbody>\n",
       "</table>\n",
       "</div>"
      ],
      "text/plain": [
       "              A         B         C         D\n",
       "count  6.000000  6.000000  6.000000  6.000000\n",
       "mean   1.030979 -0.386719 -0.416732  0.477865\n",
       "std    1.211538  0.839815  1.114291  1.556918\n",
       "min   -0.736990 -1.473381 -2.543656 -1.347205\n",
       "25%    0.166965 -0.915403 -0.469059 -0.834596\n",
       "50%    1.540714 -0.494769 -0.077036  0.522040\n",
       "75%    1.869779  0.215418  0.096966  1.890394\n",
       "max    2.152918  0.746074  0.642106  2.110610"
      ]
     },
     "execution_count": 15,
     "metadata": {},
     "output_type": "execute_result"
    }
   ],
   "source": [
    "df.describe()"
   ]
  },
  {
   "cell_type": "code",
   "execution_count": 16,
   "metadata": {
    "collapsed": false
   },
   "outputs": [
    {
     "data": {
      "text/plain": [
       "array([[ 1.34341879,  0.36783709, -0.20729565,  2.07171588],\n",
       "       [ 1.91370251, -0.74770037, -2.54365597, -1.34720528],\n",
       "       [-0.73699029, -0.24183764,  0.64210595,  1.34642999],\n",
       "       [ 1.73800877, -0.97130404,  0.11154683, -0.30234977],\n",
       "       [ 2.15291833,  0.74607425, -0.55631338, -1.01201152],\n",
       "       [-0.22518607, -1.47338149,  0.05322319,  2.11060978]])"
      ]
     },
     "execution_count": 16,
     "metadata": {},
     "output_type": "execute_result"
    }
   ],
   "source": [
    "df.values"
   ]
  },
  {
   "cell_type": "code",
   "execution_count": 17,
   "metadata": {
    "collapsed": false
   },
   "outputs": [
    {
     "data": {
      "text/html": [
       "<div>\n",
       "<table border=\"1\" class=\"dataframe\">\n",
       "  <thead>\n",
       "    <tr style=\"text-align: right;\">\n",
       "      <th></th>\n",
       "      <th>A</th>\n",
       "      <th>B</th>\n",
       "      <th>C</th>\n",
       "      <th>D</th>\n",
       "    </tr>\n",
       "  </thead>\n",
       "  <tbody>\n",
       "    <tr>\n",
       "      <th>2013-01-06</th>\n",
       "      <td>-0.225186</td>\n",
       "      <td>-1.473381</td>\n",
       "      <td>0.053223</td>\n",
       "      <td>2.110610</td>\n",
       "    </tr>\n",
       "    <tr>\n",
       "      <th>2013-01-05</th>\n",
       "      <td>2.152918</td>\n",
       "      <td>0.746074</td>\n",
       "      <td>-0.556313</td>\n",
       "      <td>-1.012012</td>\n",
       "    </tr>\n",
       "    <tr>\n",
       "      <th>2013-01-04</th>\n",
       "      <td>1.738009</td>\n",
       "      <td>-0.971304</td>\n",
       "      <td>0.111547</td>\n",
       "      <td>-0.302350</td>\n",
       "    </tr>\n",
       "    <tr>\n",
       "      <th>2013-01-03</th>\n",
       "      <td>-0.736990</td>\n",
       "      <td>-0.241838</td>\n",
       "      <td>0.642106</td>\n",
       "      <td>1.346430</td>\n",
       "    </tr>\n",
       "    <tr>\n",
       "      <th>2013-01-02</th>\n",
       "      <td>1.913703</td>\n",
       "      <td>-0.747700</td>\n",
       "      <td>-2.543656</td>\n",
       "      <td>-1.347205</td>\n",
       "    </tr>\n",
       "    <tr>\n",
       "      <th>2013-01-01</th>\n",
       "      <td>1.343419</td>\n",
       "      <td>0.367837</td>\n",
       "      <td>-0.207296</td>\n",
       "      <td>2.071716</td>\n",
       "    </tr>\n",
       "  </tbody>\n",
       "</table>\n",
       "</div>"
      ],
      "text/plain": [
       "                   A         B         C         D\n",
       "2013-01-06 -0.225186 -1.473381  0.053223  2.110610\n",
       "2013-01-05  2.152918  0.746074 -0.556313 -1.012012\n",
       "2013-01-04  1.738009 -0.971304  0.111547 -0.302350\n",
       "2013-01-03 -0.736990 -0.241838  0.642106  1.346430\n",
       "2013-01-02  1.913703 -0.747700 -2.543656 -1.347205\n",
       "2013-01-01  1.343419  0.367837 -0.207296  2.071716"
      ]
     },
     "execution_count": 17,
     "metadata": {},
     "output_type": "execute_result"
    }
   ],
   "source": [
    "df.sort_index(axis=0, ascending=False)"
   ]
  },
  {
   "cell_type": "code",
   "execution_count": 18,
   "metadata": {
    "collapsed": false
   },
   "outputs": [
    {
     "data": {
      "text/html": [
       "<div>\n",
       "<table border=\"1\" class=\"dataframe\">\n",
       "  <thead>\n",
       "    <tr style=\"text-align: right;\">\n",
       "      <th></th>\n",
       "      <th>A</th>\n",
       "      <th>B</th>\n",
       "      <th>C</th>\n",
       "      <th>D</th>\n",
       "    </tr>\n",
       "  </thead>\n",
       "  <tbody>\n",
       "    <tr>\n",
       "      <th>2013-01-06</th>\n",
       "      <td>-0.225186</td>\n",
       "      <td>-1.473381</td>\n",
       "      <td>0.053223</td>\n",
       "      <td>2.110610</td>\n",
       "    </tr>\n",
       "    <tr>\n",
       "      <th>2013-01-04</th>\n",
       "      <td>1.738009</td>\n",
       "      <td>-0.971304</td>\n",
       "      <td>0.111547</td>\n",
       "      <td>-0.302350</td>\n",
       "    </tr>\n",
       "    <tr>\n",
       "      <th>2013-01-02</th>\n",
       "      <td>1.913703</td>\n",
       "      <td>-0.747700</td>\n",
       "      <td>-2.543656</td>\n",
       "      <td>-1.347205</td>\n",
       "    </tr>\n",
       "    <tr>\n",
       "      <th>2013-01-03</th>\n",
       "      <td>-0.736990</td>\n",
       "      <td>-0.241838</td>\n",
       "      <td>0.642106</td>\n",
       "      <td>1.346430</td>\n",
       "    </tr>\n",
       "    <tr>\n",
       "      <th>2013-01-01</th>\n",
       "      <td>1.343419</td>\n",
       "      <td>0.367837</td>\n",
       "      <td>-0.207296</td>\n",
       "      <td>2.071716</td>\n",
       "    </tr>\n",
       "    <tr>\n",
       "      <th>2013-01-05</th>\n",
       "      <td>2.152918</td>\n",
       "      <td>0.746074</td>\n",
       "      <td>-0.556313</td>\n",
       "      <td>-1.012012</td>\n",
       "    </tr>\n",
       "  </tbody>\n",
       "</table>\n",
       "</div>"
      ],
      "text/plain": [
       "                   A         B         C         D\n",
       "2013-01-06 -0.225186 -1.473381  0.053223  2.110610\n",
       "2013-01-04  1.738009 -0.971304  0.111547 -0.302350\n",
       "2013-01-02  1.913703 -0.747700 -2.543656 -1.347205\n",
       "2013-01-03 -0.736990 -0.241838  0.642106  1.346430\n",
       "2013-01-01  1.343419  0.367837 -0.207296  2.071716\n",
       "2013-01-05  2.152918  0.746074 -0.556313 -1.012012"
      ]
     },
     "execution_count": 18,
     "metadata": {},
     "output_type": "execute_result"
    }
   ],
   "source": [
    "df.sort_values(by='B')"
   ]
  },
  {
   "cell_type": "markdown",
   "metadata": {},
   "source": [
    "Another important abstraction that is explicitly useful in pandas is pulling out specific elements of a DataFrame by position or value.\n"
   ]
  },
  {
   "cell_type": "code",
   "execution_count": 19,
   "metadata": {
    "collapsed": false
   },
   "outputs": [
    {
     "data": {
      "text/html": [
       "<div>\n",
       "<table border=\"1\" class=\"dataframe\">\n",
       "  <thead>\n",
       "    <tr style=\"text-align: right;\">\n",
       "      <th></th>\n",
       "      <th>A</th>\n",
       "      <th>B</th>\n",
       "      <th>C</th>\n",
       "      <th>D</th>\n",
       "    </tr>\n",
       "  </thead>\n",
       "  <tbody>\n",
       "    <tr>\n",
       "      <th>2013-01-02</th>\n",
       "      <td>1.913703</td>\n",
       "      <td>-0.747700</td>\n",
       "      <td>-2.543656</td>\n",
       "      <td>-1.347205</td>\n",
       "    </tr>\n",
       "    <tr>\n",
       "      <th>2013-01-03</th>\n",
       "      <td>-0.736990</td>\n",
       "      <td>-0.241838</td>\n",
       "      <td>0.642106</td>\n",
       "      <td>1.346430</td>\n",
       "    </tr>\n",
       "    <tr>\n",
       "      <th>2013-01-04</th>\n",
       "      <td>1.738009</td>\n",
       "      <td>-0.971304</td>\n",
       "      <td>0.111547</td>\n",
       "      <td>-0.302350</td>\n",
       "    </tr>\n",
       "  </tbody>\n",
       "</table>\n",
       "</div>"
      ],
      "text/plain": [
       "                   A         B         C         D\n",
       "2013-01-02  1.913703 -0.747700 -2.543656 -1.347205\n",
       "2013-01-03 -0.736990 -0.241838  0.642106  1.346430\n",
       "2013-01-04  1.738009 -0.971304  0.111547 -0.302350"
      ]
     },
     "execution_count": 19,
     "metadata": {},
     "output_type": "execute_result"
    }
   ],
   "source": [
    "df['20130102':'20130104']"
   ]
  },
  {
   "cell_type": "code",
   "execution_count": 20,
   "metadata": {
    "collapsed": false
   },
   "outputs": [
    {
     "data": {
      "text/plain": [
       "2013-01-02    1.913703\n",
       "2013-01-03   -0.736990\n",
       "2013-01-04    1.738009\n",
       "Freq: D, Name: A, dtype: float64"
      ]
     },
     "execution_count": 20,
     "metadata": {},
     "output_type": "execute_result"
    }
   ],
   "source": [
    "df['20130102':'20130104']['A']"
   ]
  },
  {
   "cell_type": "code",
   "execution_count": 21,
   "metadata": {
    "collapsed": false
   },
   "outputs": [
    {
     "data": {
      "text/html": [
       "<div>\n",
       "<table border=\"1\" class=\"dataframe\">\n",
       "  <thead>\n",
       "    <tr style=\"text-align: right;\">\n",
       "      <th></th>\n",
       "      <th>A</th>\n",
       "      <th>B</th>\n",
       "      <th>C</th>\n",
       "      <th>D</th>\n",
       "    </tr>\n",
       "  </thead>\n",
       "  <tbody>\n",
       "    <tr>\n",
       "      <th>2013-01-01</th>\n",
       "      <td>1.343419</td>\n",
       "      <td>0.367837</td>\n",
       "      <td>-0.207296</td>\n",
       "      <td>2.071716</td>\n",
       "    </tr>\n",
       "    <tr>\n",
       "      <th>2013-01-05</th>\n",
       "      <td>2.152918</td>\n",
       "      <td>0.746074</td>\n",
       "      <td>-0.556313</td>\n",
       "      <td>-1.012012</td>\n",
       "    </tr>\n",
       "  </tbody>\n",
       "</table>\n",
       "</div>"
      ],
      "text/plain": [
       "                   A         B         C         D\n",
       "2013-01-01  1.343419  0.367837 -0.207296  2.071716\n",
       "2013-01-05  2.152918  0.746074 -0.556313 -1.012012"
      ]
     },
     "execution_count": 21,
     "metadata": {},
     "output_type": "execute_result"
    }
   ],
   "source": [
    "df[df.B > 0]"
   ]
  },
  {
   "cell_type": "code",
   "execution_count": 22,
   "metadata": {
    "collapsed": false
   },
   "outputs": [
    {
     "data": {
      "text/html": [
       "<div>\n",
       "<table border=\"1\" class=\"dataframe\">\n",
       "  <thead>\n",
       "    <tr style=\"text-align: right;\">\n",
       "      <th></th>\n",
       "      <th>A</th>\n",
       "      <th>B</th>\n",
       "      <th>C</th>\n",
       "      <th>D</th>\n",
       "    </tr>\n",
       "  </thead>\n",
       "  <tbody>\n",
       "    <tr>\n",
       "      <th>2013-01-01</th>\n",
       "      <td>True</td>\n",
       "      <td>True</td>\n",
       "      <td>False</td>\n",
       "      <td>True</td>\n",
       "    </tr>\n",
       "    <tr>\n",
       "      <th>2013-01-02</th>\n",
       "      <td>True</td>\n",
       "      <td>False</td>\n",
       "      <td>False</td>\n",
       "      <td>False</td>\n",
       "    </tr>\n",
       "    <tr>\n",
       "      <th>2013-01-03</th>\n",
       "      <td>False</td>\n",
       "      <td>False</td>\n",
       "      <td>True</td>\n",
       "      <td>True</td>\n",
       "    </tr>\n",
       "    <tr>\n",
       "      <th>2013-01-04</th>\n",
       "      <td>True</td>\n",
       "      <td>False</td>\n",
       "      <td>True</td>\n",
       "      <td>False</td>\n",
       "    </tr>\n",
       "    <tr>\n",
       "      <th>2013-01-05</th>\n",
       "      <td>True</td>\n",
       "      <td>True</td>\n",
       "      <td>False</td>\n",
       "      <td>False</td>\n",
       "    </tr>\n",
       "    <tr>\n",
       "      <th>2013-01-06</th>\n",
       "      <td>False</td>\n",
       "      <td>False</td>\n",
       "      <td>True</td>\n",
       "      <td>True</td>\n",
       "    </tr>\n",
       "  </tbody>\n",
       "</table>\n",
       "</div>"
      ],
      "text/plain": [
       "                A      B      C      D\n",
       "2013-01-01   True   True  False   True\n",
       "2013-01-02   True  False  False  False\n",
       "2013-01-03  False  False   True   True\n",
       "2013-01-04   True  False   True  False\n",
       "2013-01-05   True   True  False  False\n",
       "2013-01-06  False  False   True   True"
      ]
     },
     "execution_count": 22,
     "metadata": {},
     "output_type": "execute_result"
    }
   ],
   "source": [
    "df > 0"
   ]
  },
  {
   "cell_type": "code",
   "execution_count": 23,
   "metadata": {
    "collapsed": false
   },
   "outputs": [
    {
     "data": {
      "text/html": [
       "<div>\n",
       "<table border=\"1\" class=\"dataframe\">\n",
       "  <thead>\n",
       "    <tr style=\"text-align: right;\">\n",
       "      <th></th>\n",
       "      <th>A</th>\n",
       "      <th>B</th>\n",
       "      <th>C</th>\n",
       "      <th>D</th>\n",
       "    </tr>\n",
       "  </thead>\n",
       "  <tbody>\n",
       "    <tr>\n",
       "      <th>2013-01-01</th>\n",
       "      <td>1.343419</td>\n",
       "      <td>0.367837</td>\n",
       "      <td>NaN</td>\n",
       "      <td>2.071716</td>\n",
       "    </tr>\n",
       "    <tr>\n",
       "      <th>2013-01-02</th>\n",
       "      <td>1.913703</td>\n",
       "      <td>NaN</td>\n",
       "      <td>NaN</td>\n",
       "      <td>NaN</td>\n",
       "    </tr>\n",
       "    <tr>\n",
       "      <th>2013-01-03</th>\n",
       "      <td>NaN</td>\n",
       "      <td>NaN</td>\n",
       "      <td>0.642106</td>\n",
       "      <td>1.346430</td>\n",
       "    </tr>\n",
       "    <tr>\n",
       "      <th>2013-01-04</th>\n",
       "      <td>1.738009</td>\n",
       "      <td>NaN</td>\n",
       "      <td>0.111547</td>\n",
       "      <td>NaN</td>\n",
       "    </tr>\n",
       "    <tr>\n",
       "      <th>2013-01-05</th>\n",
       "      <td>2.152918</td>\n",
       "      <td>0.746074</td>\n",
       "      <td>NaN</td>\n",
       "      <td>NaN</td>\n",
       "    </tr>\n",
       "    <tr>\n",
       "      <th>2013-01-06</th>\n",
       "      <td>NaN</td>\n",
       "      <td>NaN</td>\n",
       "      <td>0.053223</td>\n",
       "      <td>2.110610</td>\n",
       "    </tr>\n",
       "  </tbody>\n",
       "</table>\n",
       "</div>"
      ],
      "text/plain": [
       "                   A         B         C         D\n",
       "2013-01-01  1.343419  0.367837       NaN  2.071716\n",
       "2013-01-02  1.913703       NaN       NaN       NaN\n",
       "2013-01-03       NaN       NaN  0.642106  1.346430\n",
       "2013-01-04  1.738009       NaN  0.111547       NaN\n",
       "2013-01-05  2.152918  0.746074       NaN       NaN\n",
       "2013-01-06       NaN       NaN  0.053223  2.110610"
      ]
     },
     "execution_count": 23,
     "metadata": {},
     "output_type": "execute_result"
    }
   ],
   "source": [
    "df[df > 0]"
   ]
  },
  {
   "cell_type": "code",
   "execution_count": 24,
   "metadata": {
    "collapsed": false
   },
   "outputs": [
    {
     "data": {
      "text/html": [
       "<div>\n",
       "<table border=\"1\" class=\"dataframe\">\n",
       "  <thead>\n",
       "    <tr style=\"text-align: right;\">\n",
       "      <th></th>\n",
       "      <th>A</th>\n",
       "      <th>B</th>\n",
       "      <th>C</th>\n",
       "      <th>D</th>\n",
       "    </tr>\n",
       "  </thead>\n",
       "  <tbody>\n",
       "    <tr>\n",
       "      <th>2013-01-01</th>\n",
       "      <td>0.000000</td>\n",
       "      <td>0.367837</td>\n",
       "      <td>-0.207296</td>\n",
       "      <td>2.071716</td>\n",
       "    </tr>\n",
       "    <tr>\n",
       "      <th>2013-01-02</th>\n",
       "      <td>1.913703</td>\n",
       "      <td>-0.747700</td>\n",
       "      <td>-2.543656</td>\n",
       "      <td>-1.347205</td>\n",
       "    </tr>\n",
       "    <tr>\n",
       "      <th>2013-01-03</th>\n",
       "      <td>-0.736990</td>\n",
       "      <td>-0.241838</td>\n",
       "      <td>0.642106</td>\n",
       "      <td>1.346430</td>\n",
       "    </tr>\n",
       "    <tr>\n",
       "      <th>2013-01-04</th>\n",
       "      <td>1.738009</td>\n",
       "      <td>-0.971304</td>\n",
       "      <td>0.111547</td>\n",
       "      <td>-0.302350</td>\n",
       "    </tr>\n",
       "    <tr>\n",
       "      <th>2013-01-05</th>\n",
       "      <td>2.152918</td>\n",
       "      <td>0.746074</td>\n",
       "      <td>-0.556313</td>\n",
       "      <td>-1.012012</td>\n",
       "    </tr>\n",
       "    <tr>\n",
       "      <th>2013-01-06</th>\n",
       "      <td>-0.225186</td>\n",
       "      <td>-1.473381</td>\n",
       "      <td>0.053223</td>\n",
       "      <td>2.110610</td>\n",
       "    </tr>\n",
       "  </tbody>\n",
       "</table>\n",
       "</div>"
      ],
      "text/plain": [
       "                   A         B         C         D\n",
       "2013-01-01  0.000000  0.367837 -0.207296  2.071716\n",
       "2013-01-02  1.913703 -0.747700 -2.543656 -1.347205\n",
       "2013-01-03 -0.736990 -0.241838  0.642106  1.346430\n",
       "2013-01-04  1.738009 -0.971304  0.111547 -0.302350\n",
       "2013-01-05  2.152918  0.746074 -0.556313 -1.012012\n",
       "2013-01-06 -0.225186 -1.473381  0.053223  2.110610"
      ]
     },
     "execution_count": 24,
     "metadata": {},
     "output_type": "execute_result"
    }
   ],
   "source": [
    "# Setting values\n",
    "df.at[dates[0],'A'] = 0\n",
    "df"
   ]
  },
  {
   "cell_type": "markdown",
   "metadata": {},
   "source": [
    "A final class of utilities that are useful in this lecture are operations on DataFrames."
   ]
  },
  {
   "cell_type": "code",
   "execution_count": 25,
   "metadata": {
    "collapsed": false
   },
   "outputs": [
    {
     "data": {
      "text/plain": [
       "A    0.807076\n",
       "B   -0.386719\n",
       "C   -0.416732\n",
       "D    0.477865\n",
       "dtype: float64"
      ]
     },
     "execution_count": 25,
     "metadata": {},
     "output_type": "execute_result"
    }
   ],
   "source": [
    "df.mean()"
   ]
  },
  {
   "cell_type": "code",
   "execution_count": 26,
   "metadata": {
    "collapsed": false
   },
   "outputs": [
    {
     "data": {
      "text/plain": [
       "2013-01-01    0.558064\n",
       "2013-01-02   -0.681215\n",
       "2013-01-03    0.252427\n",
       "2013-01-04    0.143975\n",
       "2013-01-05    0.332667\n",
       "2013-01-06    0.116316\n",
       "Freq: D, dtype: float64"
      ]
     },
     "execution_count": 26,
     "metadata": {},
     "output_type": "execute_result"
    }
   ],
   "source": [
    "# Along the other axis\n",
    "df.mean(1)"
   ]
  },
  {
   "cell_type": "code",
   "execution_count": 27,
   "metadata": {
    "collapsed": false
   },
   "outputs": [
    {
     "data": {
      "text/html": [
       "<div>\n",
       "<table border=\"1\" class=\"dataframe\">\n",
       "  <thead>\n",
       "    <tr style=\"text-align: right;\">\n",
       "      <th></th>\n",
       "      <th>A</th>\n",
       "      <th>B</th>\n",
       "      <th>C</th>\n",
       "      <th>D</th>\n",
       "    </tr>\n",
       "  </thead>\n",
       "  <tbody>\n",
       "    <tr>\n",
       "      <th>2013-01-01</th>\n",
       "      <td>0.000000</td>\n",
       "      <td>0.367837</td>\n",
       "      <td>-0.207296</td>\n",
       "      <td>2.071716</td>\n",
       "    </tr>\n",
       "    <tr>\n",
       "      <th>2013-01-02</th>\n",
       "      <td>1.913703</td>\n",
       "      <td>-0.379863</td>\n",
       "      <td>-2.750952</td>\n",
       "      <td>0.724511</td>\n",
       "    </tr>\n",
       "    <tr>\n",
       "      <th>2013-01-03</th>\n",
       "      <td>1.176712</td>\n",
       "      <td>-0.621701</td>\n",
       "      <td>-2.108846</td>\n",
       "      <td>2.070941</td>\n",
       "    </tr>\n",
       "    <tr>\n",
       "      <th>2013-01-04</th>\n",
       "      <td>2.914721</td>\n",
       "      <td>-1.593005</td>\n",
       "      <td>-1.997299</td>\n",
       "      <td>1.768591</td>\n",
       "    </tr>\n",
       "    <tr>\n",
       "      <th>2013-01-05</th>\n",
       "      <td>5.067639</td>\n",
       "      <td>-0.846931</td>\n",
       "      <td>-2.553612</td>\n",
       "      <td>0.756579</td>\n",
       "    </tr>\n",
       "    <tr>\n",
       "      <th>2013-01-06</th>\n",
       "      <td>4.842453</td>\n",
       "      <td>-2.320312</td>\n",
       "      <td>-2.500389</td>\n",
       "      <td>2.867189</td>\n",
       "    </tr>\n",
       "  </tbody>\n",
       "</table>\n",
       "</div>"
      ],
      "text/plain": [
       "                   A         B         C         D\n",
       "2013-01-01  0.000000  0.367837 -0.207296  2.071716\n",
       "2013-01-02  1.913703 -0.379863 -2.750952  0.724511\n",
       "2013-01-03  1.176712 -0.621701 -2.108846  2.070941\n",
       "2013-01-04  2.914721 -1.593005 -1.997299  1.768591\n",
       "2013-01-05  5.067639 -0.846931 -2.553612  0.756579\n",
       "2013-01-06  4.842453 -2.320312 -2.500389  2.867189"
      ]
     },
     "execution_count": 27,
     "metadata": {},
     "output_type": "execute_result"
    }
   ],
   "source": [
    "# Applying standard functions to the data\n",
    "df.apply(numpy.cumsum)"
   ]
  },
  {
   "cell_type": "code",
   "execution_count": 28,
   "metadata": {
    "collapsed": false
   },
   "outputs": [
    {
     "data": {
      "text/plain": [
       "A    2.889909\n",
       "B    2.219456\n",
       "C    3.185762\n",
       "D    3.457815\n",
       "dtype: float64"
      ]
     },
     "execution_count": 28,
     "metadata": {},
     "output_type": "execute_result"
    }
   ],
   "source": [
    "# Applying custom, temporary functions to the data\n",
    "df.apply(lambda x: x.max() - x.min())"
   ]
  },
  {
   "cell_type": "markdown",
   "metadata": {},
   "source": [
    "### Doing my homework\n",
    "\n",
    "I am tasked with analyzing the market for earth imagery from satellites.  We will analyze a cleaned version of a dataset that includes information on all active satellites currently in orbit.  The data is saved as a CSV in this repository.  Read the data."
   ]
  },
  {
   "cell_type": "code",
   "execution_count": 32,
   "metadata": {
    "collapsed": false
   },
   "outputs": [
    {
     "data": {
      "text/html": [
       "<div>\n",
       "<table border=\"1\" class=\"dataframe\">\n",
       "  <thead>\n",
       "    <tr style=\"text-align: right;\">\n",
       "      <th></th>\n",
       "      <th>country</th>\n",
       "      <th>users</th>\n",
       "      <th>purpose</th>\n",
       "      <th>date</th>\n",
       "      <th>mass</th>\n",
       "    </tr>\n",
       "  </thead>\n",
       "  <tbody>\n",
       "    <tr>\n",
       "      <th>0</th>\n",
       "      <td>Denmark</td>\n",
       "      <td>Civil</td>\n",
       "      <td>Earth Observation</td>\n",
       "      <td>2016-04-25</td>\n",
       "      <td>1</td>\n",
       "    </tr>\n",
       "    <tr>\n",
       "      <th>1</th>\n",
       "      <td>Multinational</td>\n",
       "      <td>Commercial</td>\n",
       "      <td>Communications</td>\n",
       "      <td>2014-02-06</td>\n",
       "      <td>6,330</td>\n",
       "    </tr>\n",
       "    <tr>\n",
       "      <th>2</th>\n",
       "      <td>Multinational</td>\n",
       "      <td>Commercial</td>\n",
       "      <td>Communications</td>\n",
       "      <td>2016-06-15</td>\n",
       "      <td>1,800</td>\n",
       "    </tr>\n",
       "    <tr>\n",
       "      <th>3</th>\n",
       "      <td>Multinational</td>\n",
       "      <td>Commercial</td>\n",
       "      <td>Communications</td>\n",
       "      <td>1997-08-19</td>\n",
       "      <td>3,775</td>\n",
       "    </tr>\n",
       "    <tr>\n",
       "      <th>4</th>\n",
       "      <td>Multinational</td>\n",
       "      <td>Commercial</td>\n",
       "      <td>Communications</td>\n",
       "      <td>2015-03-02</td>\n",
       "      <td>2,000</td>\n",
       "    </tr>\n",
       "  </tbody>\n",
       "</table>\n",
       "</div>"
      ],
      "text/plain": [
       "         country       users            purpose        date   mass\n",
       "0        Denmark       Civil  Earth Observation  2016-04-25      1\n",
       "1  Multinational  Commercial     Communications  2014-02-06  6,330\n",
       "2  Multinational  Commercial     Communications  2016-06-15  1,800\n",
       "3  Multinational  Commercial     Communications  1997-08-19  3,775\n",
       "4  Multinational  Commercial     Communications  2015-03-02  2,000"
      ]
     },
     "execution_count": 32,
     "metadata": {},
     "output_type": "execute_result"
    }
   ],
   "source": [
    "data = pandas.read_csv('satdata.csv')\n",
    "data[['country', 'users', 'purpose', 'date','mass']].head()"
   ]
  },
  {
   "cell_type": "markdown",
   "metadata": {},
   "source": [
    "**PRACTICE 3**.  How many satellites are currently in orbit?"
   ]
  },
  {
   "cell_type": "code",
   "execution_count": 30,
   "metadata": {
    "collapsed": false
   },
   "outputs": [
    {
     "name": "stdout",
     "output_type": "stream",
     "text": [
      "1459\n"
     ]
    }
   ],
   "source": [
    "\n",
    "print len(data)"
   ]
  },
  {
   "cell_type": "markdown",
   "metadata": {},
   "source": [
    "**PRACTICE 4**.  What is the average, max, and minimum size of the satellites in orbit?"
   ]
  },
  {
   "cell_type": "code",
   "execution_count": 33,
   "metadata": {
    "collapsed": false
   },
   "outputs": [
    {
     "data": {
      "text/plain": [
       "count    660.000000\n",
       "mean     264.006061\n",
       "std      291.132048\n",
       "min        1.000000\n",
       "25%             NaN\n",
       "50%             NaN\n",
       "75%             NaN\n",
       "max      980.000000\n",
       "Name: mass, dtype: float64"
      ]
     },
     "execution_count": 33,
     "metadata": {},
     "output_type": "execute_result"
    }
   ],
   "source": [
    "# Insert answer into here\n",
    "x = pandas.to_numeric(data.mass, errors = 'coerce')\n",
    "x.describe()"
   ]
  },
  {
   "cell_type": "markdown",
   "metadata": {},
   "source": [
    "**PRACTICE 5**.  How many earth observing or earth science satellites satellites are currently in orbit?  How many of these satellites are for strictly non-military users? Save the subset as `sub`."
   ]
  },
  {
   "cell_type": "code",
   "execution_count": 39,
   "metadata": {
    "collapsed": false
   },
   "outputs": [
    {
     "data": {
      "text/plain": [
       "(405, 14)"
      ]
     },
     "execution_count": 39,
     "metadata": {},
     "output_type": "execute_result"
    }
   ],
   "source": [
    "# Insert answer into here\n",
    "acceptables = ['Earth Observation',\n",
    " 'Earth Observation/Communications',\n",
    " 'Earth Observation/Communications/Space Science',\n",
    " 'Earth Observation/Technology Development',\n",
    " 'Earth Science',\n",
    " 'Earth/Space Science']\n",
    "set(data.purpose)\n",
    "\n",
    "#Boolean\n",
    "sub = data[data.purpose.isin(acceptables)]\n",
    "sub.shape"
   ]
  },
  {
   "cell_type": "markdown",
   "metadata": {},
   "source": [
    "**PRACTICE 6**.  Create a histogram of the detailed purpose within the class of earth observing, non-military satellites."
   ]
  },
  {
   "cell_type": "code",
   "execution_count": 43,
   "metadata": {
    "collapsed": false
   },
   "outputs": [
    {
     "data": {
      "text/plain": [
       "(290, 14)"
      ]
     },
     "execution_count": 43,
     "metadata": {},
     "output_type": "execute_result"
    }
   ],
   "source": [
    "# Copy records\n",
    "acceptables = [\n",
    "    'Civil',\n",
    " 'Civil/Government',\n",
    " 'Commercial',\n",
    " 'Commercial/Gov/Mil',\n",
    " 'Commercial/Government',\n",
    " 'Commerical',\n",
    " 'Government',\n",
    " 'Government/Civil',\n",
    " 'Government/Commercial'\n",
    "]\n",
    "set(data.users)\n",
    "sub = sub[sub.users.isin(acceptables)]\n",
    "sub.shape\n",
    "\n"
   ]
  },
  {
   "cell_type": "markdown",
   "metadata": {},
   "source": [
    "**PRACTICE 7**.  Create a sub list of earth observing, non-military satellites with the following attributes.  Create a timeseries graph of the cumulative number of these types of satellites in orbit.  Resample the data to graph by week, rather than by day.  \n",
    "\n",
    "```python\n",
    "acceptables = [\n",
    "    'Radar Imaging/Earth Science',\n",
    "    'Optical Imaging/Automatic Identification System (AIS)',\n",
    "    'Optical Imaging/Meteorology',\n",
    "    'Hyperspectral Imaging',\n",
    "    'Optical Imaging/Infrared Imaging',\n",
    "    'Multispectral Imaging',\n",
    "    'Radar Imaging',\n",
    "    'Optical Imaging (video)',\n",
    "    'Optical Imaging',\n",
    "    'Earth Science',\n",
    "    'Meteorology/Earth Science',\n",
    "    'Optical Imaging/Meterology'\n",
    "]\n",
    "```"
   ]
  },
  {
   "cell_type": "code",
   "execution_count": 41,
   "metadata": {
    "collapsed": true
   },
   "outputs": [],
   "source": [
    "# Insert answer into here"
   ]
  },
  {
   "cell_type": "markdown",
   "metadata": {},
   "source": [
    "**PRACTICE 8**.  There is a jump in orbiting satellites around April 2016.  Why?  Who sent so many satellites into orbit?  How many?"
   ]
  },
  {
   "cell_type": "code",
   "execution_count": 52,
   "metadata": {
    "collapsed": true
   },
   "outputs": [],
   "source": [
    "# Insert answer into here"
   ]
  }
 ],
 "metadata": {
  "anaconda-cloud": {},
  "kernelspec": {
   "display_name": "Python [conda root]",
   "language": "python",
   "name": "conda-root-py"
  },
  "language_info": {
   "codemirror_mode": {
    "name": "ipython",
    "version": 2
   },
   "file_extension": ".py",
   "mimetype": "text/x-python",
   "name": "python",
   "nbconvert_exporter": "python",
   "pygments_lexer": "ipython2",
   "version": "2.7.12"
  }
 },
 "nbformat": 4,
 "nbformat_minor": 2
}
