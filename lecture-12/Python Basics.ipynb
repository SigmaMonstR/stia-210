{
 "cells": [
  {
   "cell_type": "markdown",
   "metadata": {},
   "source": [
    "# Intro to Python for Data Science"
   ]
  },
  {
   "cell_type": "markdown",
   "metadata": {},
   "source": [
    "## Jupyter Notebooks\n",
    "\n",
    "This file is a Jupyter notebook, formerly known as an Interactive Python Notebook (.ipynb) file. As you can see, it can be interacted with in a web browser, so it does not need to be a static block like a PDF.\n",
    "\n",
    "Jupyter notebooks are similar to R markdown files. They contain cells of text (like this one) for explanations and well-formatted comments, and then cells for code and results. The difference is that Jupyter notebooks are much more interactive--you can execute and modify code and see results easily, all within the notebook. This makes it very useful for projects where you want to collaborate and share your thinking, as well as research work where you want to make your results easily reproducible."
   ]
  },
  {
   "cell_type": "code",
   "execution_count": 2,
   "metadata": {},
   "outputs": [
    {
     "name": "stdout",
     "output_type": "stream",
     "text": [
      "Hello, World!\n"
     ]
    }
   ],
   "source": [
    "# Demo code\n",
    "print('Hello, World!')"
   ]
  },
  {
   "cell_type": "markdown",
   "metadata": {},
   "source": [
    "## Python fundamentals\n",
    "\n",
    "Python as a programming language isn't just used for quantitative work the way R is. There's a lot that you can do by just kind of getting the right library in the right place, but here we'll work through a few of the building blocks to know how things fit together better."
   ]
  },
  {
   "cell_type": "markdown",
   "metadata": {},
   "source": [
    "### Data Types\n",
    "\n",
    "Just like with R, variables in Python can be saved items of text (called \"Strings\" instead of \"char\"), numbers, or True-False boolean values."
   ]
  },
  {
   "cell_type": "code",
   "execution_count": 2,
   "metadata": {
    "collapsed": true
   },
   "outputs": [],
   "source": [
    "city = \"New York\"\n",
    "pop = 8500000\n",
    "metro = True"
   ]
  },
  {
   "cell_type": "code",
   "execution_count": 3,
   "metadata": {},
   "outputs": [
    {
     "name": "stdout",
     "output_type": "stream",
     "text": [
      "New York\n"
     ]
    }
   ],
   "source": [
    "print(city)"
   ]
  },
  {
   "cell_type": "code",
   "execution_count": 4,
   "metadata": {},
   "outputs": [
    {
     "name": "stdout",
     "output_type": "stream",
     "text": [
      "<class 'str'>\n"
     ]
    }
   ],
   "source": [
    "print(type(city))"
   ]
  },
  {
   "cell_type": "markdown",
   "metadata": {},
   "source": [
    "### Lists\n",
    "\n",
    "In R, you can frequently group together variables of the same type into an array. In Python, there are many different \"collections\" that let you group values together. Lists are perhaps the simplest case. They are:\n",
    "* Mutable in size (you can add or drop new values easily)\n",
    "* Ordered\n",
    "* Mixable by type (don't have to all be Strings, booleans, or numeric, etc.)\n",
    "\n",
    "They are signified in Python by square brackets: [ ]"
   ]
  },
  {
   "cell_type": "code",
   "execution_count": 10,
   "metadata": {
    "collapsed": true
   },
   "outputs": [],
   "source": [
    "city_names = [\"New York\", \"Washington\", \"Seattle\"]"
   ]
  },
  {
   "cell_type": "code",
   "execution_count": 11,
   "metadata": {},
   "outputs": [
    {
     "name": "stdout",
     "output_type": "stream",
     "text": [
      "['New York', 'Washington', 'Seattle']\n"
     ]
    }
   ],
   "source": [
    "print(city_names)"
   ]
  },
  {
   "cell_type": "code",
   "execution_count": 12,
   "metadata": {},
   "outputs": [
    {
     "name": "stdout",
     "output_type": "stream",
     "text": [
      "['New York', 'Washington', 'Seattle', 'Chicago']\n"
     ]
    }
   ],
   "source": [
    "# Adding another city\n",
    "city_names.append(\"Chicago\")\n",
    "print(city_names)"
   ]
  },
  {
   "cell_type": "code",
   "execution_count": 13,
   "metadata": {
    "collapsed": true
   },
   "outputs": [],
   "source": [
    "# Adding a number\n",
    "city_names.append(1000)"
   ]
  },
  {
   "cell_type": "code",
   "execution_count": 14,
   "metadata": {},
   "outputs": [
    {
     "name": "stdout",
     "output_type": "stream",
     "text": [
      "['New York', 'Washington', 'Seattle', 'Chicago', 1000]\n"
     ]
    }
   ],
   "source": [
    "print(city_names)"
   ]
  },
  {
   "cell_type": "code",
   "execution_count": null,
   "metadata": {
    "collapsed": true
   },
   "outputs": [],
   "source": []
  },
  {
   "cell_type": "code",
   "execution_count": 15,
   "metadata": {},
   "outputs": [
    {
     "name": "stdout",
     "output_type": "stream",
     "text": [
      "Washington\n"
     ]
    }
   ],
   "source": [
    "# Selecting from an index\n",
    "print(city_names[1])"
   ]
  },
  {
   "cell_type": "code",
   "execution_count": 16,
   "metadata": {},
   "outputs": [
    {
     "name": "stdout",
     "output_type": "stream",
     "text": [
      "['New York', 'Washington']\n"
     ]
    }
   ],
   "source": [
    "# Slicing\n",
    "print(city_names[0:2])"
   ]
  },
  {
   "cell_type": "code",
   "execution_count": 17,
   "metadata": {},
   "outputs": [
    {
     "name": "stdout",
     "output_type": "stream",
     "text": [
      "1000\n"
     ]
    }
   ],
   "source": [
    "# Negative indexing\n",
    "print(city_names[-1])"
   ]
  },
  {
   "cell_type": "code",
   "execution_count": 18,
   "metadata": {},
   "outputs": [
    {
     "name": "stdout",
     "output_type": "stream",
     "text": [
      "['New York', 'Washington', 'Seattle', 'Chicago']\n"
     ]
    }
   ],
   "source": [
    "# Combining with full slicing\n",
    "print(city_names[:-1])"
   ]
  },
  {
   "cell_type": "code",
   "execution_count": 19,
   "metadata": {
    "collapsed": true
   },
   "outputs": [],
   "source": [
    "city_names = city_names[:-1]"
   ]
  },
  {
   "cell_type": "markdown",
   "metadata": {},
   "source": [
    "One useful thing to note is that in many ways, strings behave as special lists where each element is a character. So you can access character indicies directly."
   ]
  },
  {
   "cell_type": "code",
   "execution_count": 30,
   "metadata": {},
   "outputs": [
    {
     "name": "stdout",
     "output_type": "stream",
     "text": [
      "r\n",
      "Python is great for data science\n"
     ]
    }
   ],
   "source": [
    "text = \"Python is great for data science, but I like R better\"\n",
    "print(text[-1])\n",
    "print(text[:32])"
   ]
  },
  {
   "cell_type": "markdown",
   "metadata": {},
   "source": [
    "### Dictionaries\n",
    "\n",
    "Dictionaries are a very useful and fast tool for when you want to be able to \"look up\" related values, but don't care so much about how they're related to each other.\n",
    "\n",
    "A dictionary is a collection of *key-value pairs*. Each *key* has a *value* associated with it, and while the keys can be stored in memory in any order, their *values* remain associated. This is helpful when you have a large collection of mappings, and want it to run very quickly.\n",
    "\n",
    "Dictionaries are signified in Python with curly braces: { }\n",
    "\n",
    "Lookups are performed with brackets, just like you would with a numeric index."
   ]
  },
  {
   "cell_type": "code",
   "execution_count": 20,
   "metadata": {
    "collapsed": true
   },
   "outputs": [],
   "source": [
    "# Create a dictionary, using {}\n",
    "city_pops = {\"New York\": 850000,\n",
    "             \"Washington\": 700000,\n",
    "             \"Chicago\": 2700000}"
   ]
  },
  {
   "cell_type": "code",
   "execution_count": 21,
   "metadata": {},
   "outputs": [
    {
     "data": {
      "text/plain": [
       "850000"
      ]
     },
     "execution_count": 21,
     "metadata": {},
     "output_type": "execute_result"
    }
   ],
   "source": [
    "# Referencing a value is as simple as inputing its key\n",
    "city_pops[\"New York\"]"
   ]
  },
  {
   "cell_type": "code",
   "execution_count": 22,
   "metadata": {},
   "outputs": [
    {
     "name": "stdout",
     "output_type": "stream",
     "text": [
      "dict_keys(['New York', 'Washington', 'Chicago'])\n"
     ]
    }
   ],
   "source": [
    "# It is possible to access the collection of keys (or values), but by design they might not be in order\n",
    "print(city_pops.keys())"
   ]
  },
  {
   "cell_type": "code",
   "execution_count": 23,
   "metadata": {},
   "outputs": [
    {
     "name": "stdout",
     "output_type": "stream",
     "text": [
      "690000\n"
     ]
    }
   ],
   "source": [
    "# Reassigning or adding new key-value pairs are both simple tasks\n",
    "city_pops[\"Washington\"] = 690000\n",
    "print(city_pops[\"Washington\"])"
   ]
  },
  {
   "cell_type": "code",
   "execution_count": 24,
   "metadata": {},
   "outputs": [
    {
     "name": "stdout",
     "output_type": "stream",
     "text": [
      "620000\n"
     ]
    }
   ],
   "source": [
    "city_pops[\"Baltimore\"] = 620000\n",
    "print(city_pops[\"Baltimore\"])"
   ]
  },
  {
   "cell_type": "code",
   "execution_count": 25,
   "metadata": {},
   "outputs": [
    {
     "ename": "KeyError",
     "evalue": "1",
     "output_type": "error",
     "traceback": [
      "\u001b[0;31m---------------------------------------------------------------------------\u001b[0m",
      "\u001b[0;31mKeyError\u001b[0m                                  Traceback (most recent call last)",
      "\u001b[0;32m<ipython-input-25-c372be8ec88e>\u001b[0m in \u001b[0;36m<module>\u001b[0;34m()\u001b[0m\n\u001b[1;32m      1\u001b[0m \u001b[1;31m# Because dictionaries are unordered, you can't look them up by index number\u001b[0m\u001b[1;33m\u001b[0m\u001b[1;33m\u001b[0m\u001b[0m\n\u001b[0;32m----> 2\u001b[0;31m \u001b[0mcity_pops\u001b[0m\u001b[1;33m[\u001b[0m\u001b[1;36m1\u001b[0m\u001b[1;33m]\u001b[0m\u001b[1;33m\u001b[0m\u001b[0m\n\u001b[0m",
      "\u001b[0;31mKeyError\u001b[0m: 1"
     ]
    }
   ],
   "source": [
    "# Because dictionaries are unordered, you can't look them up by index number, unless you have that number as a key\n",
    "city_pops[1]"
   ]
  },
  {
   "cell_type": "markdown",
   "metadata": {},
   "source": [
    "## Loops, Functions, and Conditionals\n",
    "\n",
    "Fortunately, both R and Python stick to most programming conventions for these fundamental programming concepts. If you know how to write a function or a loop in R, you could probably look at that function in Python and understand what's going on.\n",
    "\n",
    "Unfortunately, the formatting differences are just small enough that it's *very* easy to get confused, and it *can* break your code if you're not careful. Test your work often!"
   ]
  },
  {
   "cell_type": "markdown",
   "metadata": {},
   "source": [
    "### Loops\n",
    "\n",
    "Like R, Python has *while* and *for* loops. For loops are still the most useful in most contexts. The first line defines the condition for how many times you want to run the loop, and the following indented lines say what steps are to be performed in each iteration."
   ]
  },
  {
   "cell_type": "code",
   "execution_count": 48,
   "metadata": {},
   "outputs": [
    {
     "name": "stdout",
     "output_type": "stream",
     "text": [
      "1\n",
      "2\n",
      "3\n",
      "4\n",
      "5\n",
      "6\n",
      "7\n",
      "8\n",
      "9\n",
      "10\n"
     ]
    }
   ],
   "source": [
    "# Print the numbers 1 through 10\n",
    "\n",
    "i = 1\n",
    "\n",
    "while i < 11:\n",
    "    print(i)\n",
    "    i+=1"
   ]
  },
  {
   "cell_type": "code",
   "execution_count": 49,
   "metadata": {},
   "outputs": [
    {
     "name": "stdout",
     "output_type": "stream",
     "text": [
      "H\n",
      "e\n",
      "l\n",
      "l\n",
      "o\n",
      ",\n",
      " \n",
      "W\n",
      "o\n",
      "r\n",
      "l\n",
      "d\n",
      "!\n"
     ]
    }
   ],
   "source": [
    "# For loops apply the conditions for every element specified\n",
    "\n",
    "# Print each character on a separate line\n",
    "for letter in \"Hello, World!\":\n",
    "    print(letter)"
   ]
  },
  {
   "cell_type": "markdown",
   "metadata": {},
   "source": [
    "### Conditionals\n",
    "\n",
    "Just like all sorts of programming languages, logical checks are at the core of Python, and work about as you'd expect."
   ]
  },
  {
   "cell_type": "code",
   "execution_count": 50,
   "metadata": {},
   "outputs": [
    {
     "name": "stdout",
     "output_type": "stream",
     "text": [
      "False\n"
     ]
    }
   ],
   "source": [
    "# Check if two values are equal\n",
    "print(1 == 2)"
   ]
  },
  {
   "cell_type": "code",
   "execution_count": 51,
   "metadata": {},
   "outputs": [
    {
     "name": "stdout",
     "output_type": "stream",
     "text": [
      "False\n",
      "True\n",
      "True\n"
     ]
    }
   ],
   "source": [
    "# Greater than, less than, or equal\n",
    "print(1 > 2)\n",
    "print(3 >= 2)\n",
    "print(\"a\" < \"b\")"
   ]
  },
  {
   "cell_type": "code",
   "execution_count": 53,
   "metadata": {},
   "outputs": [
    {
     "name": "stdout",
     "output_type": "stream",
     "text": [
      "False\n",
      "False\n",
      "True\n",
      "True\n"
     ]
    }
   ],
   "source": [
    "# Logical combinations\n",
    "print(True and False)\n",
    "print(True and not True)\n",
    "print(True or False)\n",
    "print(1 != 2)"
   ]
  },
  {
   "cell_type": "code",
   "execution_count": 55,
   "metadata": {},
   "outputs": [
    {
     "name": "stdout",
     "output_type": "stream",
     "text": [
      "True\n"
     ]
    }
   ],
   "source": [
    "# Easily check for something in a collection\n",
    "print(\"a\" in [\"a\", \"b\", \"c\"])"
   ]
  },
  {
   "cell_type": "code",
   "execution_count": 69,
   "metadata": {},
   "outputs": [
    {
     "name": "stdout",
     "output_type": "stream",
     "text": [
      "The math works!\n"
     ]
    }
   ],
   "source": [
    "# Now use these with if statements\n",
    "\n",
    "if (4 / 2 == 2):\n",
    "    print(\"The math works!\")\n",
    "else:\n",
    "    print(\"Something has gone horribly wrong\")"
   ]
  },
  {
   "cell_type": "markdown",
   "metadata": {},
   "source": [
    "### Functions\n",
    "\n",
    "Write functions! Even little functions! Good programming ettiqutte is important in all programming languages, but it's a core tenant of good Python code. The first line defines the functions and its arguments, and the following indented lines lay out what the function does and what (if anything) it returns."
   ]
  },
  {
   "cell_type": "code",
   "execution_count": 3,
   "metadata": {},
   "outputs": [
    {
     "name": "stdout",
     "output_type": "stream",
     "text": [
      "25\n"
     ]
    }
   ],
   "source": [
    "def myFunc(arg):\n",
    "    \"\"\"\n",
    "    Functions should have comments at the start that explain what they do and what values they use.\n",
    "    \n",
    "    This function takes a number arg and returns its squared value.\n",
    "    \"\"\"\n",
    "    \n",
    "    output = arg**2\n",
    "    return(output)\n",
    "\n",
    "print(myFunc(5))"
   ]
  },
  {
   "cell_type": "code",
   "execution_count": null,
   "metadata": {},
   "outputs": [],
   "source": [
    "max()"
   ]
  },
  {
   "cell_type": "markdown",
   "metadata": {},
   "source": [
    "### Function challenge\n",
    "\n",
    "Write a function that takes a string and prints (not returns!) the vowels."
   ]
  },
  {
   "cell_type": "code",
   "execution_count": 7,
   "metadata": {},
   "outputs": [],
   "source": [
    "# First create a list of the 5 vowels\n",
    "vowels = ['a', 'e', 'i', 'o', 'u']"
   ]
  },
  {
   "cell_type": "code",
   "execution_count": 8,
   "metadata": {},
   "outputs": [],
   "source": [
    "# Define your function here\n",
    "# Remember it should have one argument, a string, and it should not have a return statement\n",
    "# You'll need to use a loop, a logical test, and your vowels list\n",
    "\n",
    "def print_vowels(x):\n",
    "    for char in x:\n",
    "        if char in vowels:\n",
    "            print(char)"
   ]
  },
  {
   "cell_type": "code",
   "execution_count": 9,
   "metadata": {},
   "outputs": [
    {
     "name": "stdout",
     "output_type": "stream",
     "text": [
      "a\n",
      "i\n",
      "i\n",
      "o\n",
      "o\n",
      "o\n",
      "e\n"
     ]
    }
   ],
   "source": [
    "print_vowels(\"Oh man this is good code!\")"
   ]
  },
  {
   "cell_type": "markdown",
   "metadata": {},
   "source": [
    "## Data sets and pandas for analysis\n",
    "\n",
    "You *could* combine lists and dictionaries in all sorts of ways to store and reference your data. Lists can contain lists (or lists of lists, or...). Dictionaries can contain dictionaries as their values (but not their keys).\n",
    "\n",
    "But you know what R is really good at? Data frames. Rows and columns, observations and variables. To mimic that functionality in Python, you'll want to use the *pandas* library. By convention, data scientists will usually refer to pandas as \"pd\" in their code, because it is so often used and typed out."
   ]
  },
  {
   "cell_type": "code",
   "execution_count": 32,
   "metadata": {
    "collapsed": true
   },
   "outputs": [],
   "source": [
    "# How to import a library in Python\n",
    "import pandas as pd"
   ]
  },
  {
   "cell_type": "code",
   "execution_count": 34,
   "metadata": {},
   "outputs": [],
   "source": [
    "# Creating a data frame from scratch\n",
    "df = pd.DataFrame([[\"New York\", 8500000, True],\n",
    "                  [\"Washington\", 700000, True],\n",
    "                  [\"Chicago\", 2700000, False]])"
   ]
  },
  {
   "cell_type": "code",
   "execution_count": 36,
   "metadata": {},
   "outputs": [
    {
     "data": {
      "text/html": [
       "<div>\n",
       "<table border=\"1\" class=\"dataframe\">\n",
       "  <thead>\n",
       "    <tr style=\"text-align: right;\">\n",
       "      <th></th>\n",
       "      <th>0</th>\n",
       "      <th>1</th>\n",
       "      <th>2</th>\n",
       "    </tr>\n",
       "  </thead>\n",
       "  <tbody>\n",
       "    <tr>\n",
       "      <th>0</th>\n",
       "      <td>New York</td>\n",
       "      <td>8500000</td>\n",
       "      <td>True</td>\n",
       "    </tr>\n",
       "    <tr>\n",
       "      <th>1</th>\n",
       "      <td>Washington</td>\n",
       "      <td>700000</td>\n",
       "      <td>True</td>\n",
       "    </tr>\n",
       "    <tr>\n",
       "      <th>2</th>\n",
       "      <td>Chicago</td>\n",
       "      <td>2700000</td>\n",
       "      <td>False</td>\n",
       "    </tr>\n",
       "  </tbody>\n",
       "</table>\n",
       "</div>"
      ],
      "text/plain": [
       "            0        1      2\n",
       "0    New York  8500000   True\n",
       "1  Washington   700000   True\n",
       "2     Chicago  2700000  False"
      ]
     },
     "execution_count": 36,
     "metadata": {},
     "output_type": "execute_result"
    }
   ],
   "source": [
    "df"
   ]
  },
  {
   "cell_type": "code",
   "execution_count": 38,
   "metadata": {},
   "outputs": [],
   "source": [
    "# It works better from dictionaries, where the key is the variable name\n",
    "df = pd.DataFrame({\"City\": [\"New York\", \"Washington\", \"Chicago\"],\n",
    "                   \"Population\": [8500000, 700000, 2700000],\n",
    "                   \"East Coast\": [True, True, False]})"
   ]
  },
  {
   "cell_type": "code",
   "execution_count": 39,
   "metadata": {},
   "outputs": [
    {
     "data": {
      "text/html": [
       "<div>\n",
       "<table border=\"1\" class=\"dataframe\">\n",
       "  <thead>\n",
       "    <tr style=\"text-align: right;\">\n",
       "      <th></th>\n",
       "      <th>City</th>\n",
       "      <th>East Coast</th>\n",
       "      <th>Population</th>\n",
       "    </tr>\n",
       "  </thead>\n",
       "  <tbody>\n",
       "    <tr>\n",
       "      <th>0</th>\n",
       "      <td>New York</td>\n",
       "      <td>True</td>\n",
       "      <td>8500000</td>\n",
       "    </tr>\n",
       "    <tr>\n",
       "      <th>1</th>\n",
       "      <td>Washington</td>\n",
       "      <td>True</td>\n",
       "      <td>700000</td>\n",
       "    </tr>\n",
       "    <tr>\n",
       "      <th>2</th>\n",
       "      <td>Chicago</td>\n",
       "      <td>False</td>\n",
       "      <td>2700000</td>\n",
       "    </tr>\n",
       "  </tbody>\n",
       "</table>\n",
       "</div>"
      ],
      "text/plain": [
       "         City East Coast  Population\n",
       "0    New York       True     8500000\n",
       "1  Washington       True      700000\n",
       "2     Chicago      False     2700000"
      ]
     },
     "execution_count": 39,
     "metadata": {},
     "output_type": "execute_result"
    }
   ],
   "source": [
    "df"
   ]
  },
  {
   "cell_type": "code",
   "execution_count": 40,
   "metadata": {},
   "outputs": [
    {
     "data": {
      "text/plain": [
       "0      New York\n",
       "1    Washington\n",
       "2       Chicago\n",
       "Name: City, dtype: object"
      ]
     },
     "execution_count": 40,
     "metadata": {},
     "output_type": "execute_result"
    }
   ],
   "source": [
    "# Lookups\n",
    "df[\"City\"]"
   ]
  },
  {
   "cell_type": "code",
   "execution_count": 41,
   "metadata": {},
   "outputs": [
    {
     "data": {
      "text/html": [
       "<div>\n",
       "<table border=\"1\" class=\"dataframe\">\n",
       "  <thead>\n",
       "    <tr style=\"text-align: right;\">\n",
       "      <th></th>\n",
       "      <th>City</th>\n",
       "      <th>East Coast</th>\n",
       "      <th>Population</th>\n",
       "    </tr>\n",
       "  </thead>\n",
       "  <tbody>\n",
       "    <tr>\n",
       "      <th>0</th>\n",
       "      <td>New York</td>\n",
       "      <td>True</td>\n",
       "      <td>8500000</td>\n",
       "    </tr>\n",
       "    <tr>\n",
       "      <th>1</th>\n",
       "      <td>Washington</td>\n",
       "      <td>True</td>\n",
       "      <td>700000</td>\n",
       "    </tr>\n",
       "  </tbody>\n",
       "</table>\n",
       "</div>"
      ],
      "text/plain": [
       "         City East Coast  Population\n",
       "0    New York       True     8500000\n",
       "1  Washington       True      700000"
      ]
     },
     "execution_count": 41,
     "metadata": {},
     "output_type": "execute_result"
    }
   ],
   "source": [
    "df[df[\"East Coast\"] == True]"
   ]
  },
  {
   "cell_type": "code",
   "execution_count": 42,
   "metadata": {},
   "outputs": [
    {
     "data": {
      "text/plain": [
       "11900000"
      ]
     },
     "execution_count": 42,
     "metadata": {},
     "output_type": "execute_result"
    }
   ],
   "source": [
    "# Some basic statistical operations are available automatically\n",
    "df[\"Population\"].sum()"
   ]
  },
  {
   "cell_type": "code",
   "execution_count": 43,
   "metadata": {},
   "outputs": [
    {
     "data": {
      "text/plain": [
       "0.66666666666666663"
      ]
     },
     "execution_count": 43,
     "metadata": {},
     "output_type": "execute_result"
    }
   ],
   "source": [
    "# Booleans count as 1 or 0 for most math purposes\n",
    "df[\"East Coast\"].mean()"
   ]
  },
  {
   "cell_type": "markdown",
   "metadata": {},
   "source": [
    "### Loading DataFrames\n",
    "\n",
    "Creating DataFrames by hand is possible, but clearly not ideal! The good news is that they can be read in or saved out using many different file formats, just like in R. The common formats are CSVs and JSONs, but for simplicity we'll keep working with CSVs."
   ]
  },
  {
   "cell_type": "code",
   "execution_count": 56,
   "metadata": {},
   "outputs": [],
   "source": [
    "dc_pums = pd.read_csv(\"https://raw.githubusercontent.com/GeorgetownMcCourt/data-science/master/lecture-12/data/ss15pdc.csv\")"
   ]
  },
  {
   "cell_type": "code",
   "execution_count": 58,
   "metadata": {},
   "outputs": [
    {
     "data": {
      "text/html": [
       "<div>\n",
       "<table border=\"1\" class=\"dataframe\">\n",
       "  <thead>\n",
       "    <tr style=\"text-align: right;\">\n",
       "      <th></th>\n",
       "      <th>RT</th>\n",
       "      <th>SERIALNO</th>\n",
       "      <th>SPORDER</th>\n",
       "      <th>PUMA</th>\n",
       "      <th>ST</th>\n",
       "      <th>ADJINC</th>\n",
       "      <th>PWGTP</th>\n",
       "      <th>AGEP</th>\n",
       "      <th>CIT</th>\n",
       "      <th>CITWP</th>\n",
       "      <th>...</th>\n",
       "      <th>RACSOR</th>\n",
       "      <th>RACWHT</th>\n",
       "      <th>RC</th>\n",
       "      <th>SCIENGP</th>\n",
       "      <th>SCIENGRLP</th>\n",
       "      <th>SFN</th>\n",
       "      <th>SFR</th>\n",
       "      <th>SOCP</th>\n",
       "      <th>VPS</th>\n",
       "      <th>WAOB</th>\n",
       "    </tr>\n",
       "  </thead>\n",
       "  <tbody>\n",
       "    <tr>\n",
       "      <th>0</th>\n",
       "      <td>P</td>\n",
       "      <td>1091</td>\n",
       "      <td>1</td>\n",
       "      <td>105</td>\n",
       "      <td>11</td>\n",
       "      <td>1001264</td>\n",
       "      <td>91</td>\n",
       "      <td>57</td>\n",
       "      <td>1</td>\n",
       "      <td>NaN</td>\n",
       "      <td>...</td>\n",
       "      <td>0</td>\n",
       "      <td>1</td>\n",
       "      <td>0</td>\n",
       "      <td>1.0</td>\n",
       "      <td>2.0</td>\n",
       "      <td>NaN</td>\n",
       "      <td>NaN</td>\n",
       "      <td>119151</td>\n",
       "      <td>NaN</td>\n",
       "      <td>1</td>\n",
       "    </tr>\n",
       "    <tr>\n",
       "      <th>1</th>\n",
       "      <td>P</td>\n",
       "      <td>1213</td>\n",
       "      <td>1</td>\n",
       "      <td>104</td>\n",
       "      <td>11</td>\n",
       "      <td>1001264</td>\n",
       "      <td>156</td>\n",
       "      <td>34</td>\n",
       "      <td>1</td>\n",
       "      <td>NaN</td>\n",
       "      <td>...</td>\n",
       "      <td>0</td>\n",
       "      <td>0</td>\n",
       "      <td>0</td>\n",
       "      <td>NaN</td>\n",
       "      <td>NaN</td>\n",
       "      <td>NaN</td>\n",
       "      <td>NaN</td>\n",
       "      <td>435051</td>\n",
       "      <td>NaN</td>\n",
       "      <td>1</td>\n",
       "    </tr>\n",
       "    <tr>\n",
       "      <th>2</th>\n",
       "      <td>P</td>\n",
       "      <td>1213</td>\n",
       "      <td>2</td>\n",
       "      <td>104</td>\n",
       "      <td>11</td>\n",
       "      <td>1001264</td>\n",
       "      <td>167</td>\n",
       "      <td>34</td>\n",
       "      <td>1</td>\n",
       "      <td>NaN</td>\n",
       "      <td>...</td>\n",
       "      <td>0</td>\n",
       "      <td>0</td>\n",
       "      <td>0</td>\n",
       "      <td>NaN</td>\n",
       "      <td>NaN</td>\n",
       "      <td>NaN</td>\n",
       "      <td>NaN</td>\n",
       "      <td>37201X</td>\n",
       "      <td>NaN</td>\n",
       "      <td>1</td>\n",
       "    </tr>\n",
       "    <tr>\n",
       "      <th>3</th>\n",
       "      <td>P</td>\n",
       "      <td>1213</td>\n",
       "      <td>3</td>\n",
       "      <td>104</td>\n",
       "      <td>11</td>\n",
       "      <td>1001264</td>\n",
       "      <td>129</td>\n",
       "      <td>7</td>\n",
       "      <td>1</td>\n",
       "      <td>NaN</td>\n",
       "      <td>...</td>\n",
       "      <td>0</td>\n",
       "      <td>0</td>\n",
       "      <td>1</td>\n",
       "      <td>NaN</td>\n",
       "      <td>NaN</td>\n",
       "      <td>NaN</td>\n",
       "      <td>NaN</td>\n",
       "      <td>NaN</td>\n",
       "      <td>NaN</td>\n",
       "      <td>1</td>\n",
       "    </tr>\n",
       "    <tr>\n",
       "      <th>4</th>\n",
       "      <td>P</td>\n",
       "      <td>1213</td>\n",
       "      <td>4</td>\n",
       "      <td>104</td>\n",
       "      <td>11</td>\n",
       "      <td>1001264</td>\n",
       "      <td>217</td>\n",
       "      <td>2</td>\n",
       "      <td>1</td>\n",
       "      <td>NaN</td>\n",
       "      <td>...</td>\n",
       "      <td>0</td>\n",
       "      <td>0</td>\n",
       "      <td>1</td>\n",
       "      <td>NaN</td>\n",
       "      <td>NaN</td>\n",
       "      <td>NaN</td>\n",
       "      <td>NaN</td>\n",
       "      <td>NaN</td>\n",
       "      <td>NaN</td>\n",
       "      <td>1</td>\n",
       "    </tr>\n",
       "  </tbody>\n",
       "</table>\n",
       "<p>5 rows × 129 columns</p>\n",
       "</div>"
      ],
      "text/plain": [
       "  RT  SERIALNO  SPORDER  PUMA  ST   ADJINC  PWGTP  AGEP  CIT  CITWP  ...   \\\n",
       "0  P      1091        1   105  11  1001264     91    57    1    NaN  ...    \n",
       "1  P      1213        1   104  11  1001264    156    34    1    NaN  ...    \n",
       "2  P      1213        2   104  11  1001264    167    34    1    NaN  ...    \n",
       "3  P      1213        3   104  11  1001264    129     7    1    NaN  ...    \n",
       "4  P      1213        4   104  11  1001264    217     2    1    NaN  ...    \n",
       "\n",
       "   RACSOR  RACWHT  RC  SCIENGP  SCIENGRLP  SFN  SFR    SOCP  VPS  WAOB  \n",
       "0       0       1   0      1.0        2.0  NaN  NaN  119151  NaN     1  \n",
       "1       0       0   0      NaN        NaN  NaN  NaN  435051  NaN     1  \n",
       "2       0       0   0      NaN        NaN  NaN  NaN  37201X  NaN     1  \n",
       "3       0       0   1      NaN        NaN  NaN  NaN     NaN  NaN     1  \n",
       "4       0       0   1      NaN        NaN  NaN  NaN     NaN  NaN     1  \n",
       "\n",
       "[5 rows x 129 columns]"
      ]
     },
     "execution_count": 58,
     "metadata": {},
     "output_type": "execute_result"
    }
   ],
   "source": [
    "dc_pums.head()"
   ]
  },
  {
   "cell_type": "code",
   "execution_count": 64,
   "metadata": {},
   "outputs": [
    {
     "data": {
      "text/plain": [
       "637000.0"
      ]
     },
     "execution_count": 64,
     "metadata": {},
     "output_type": "execute_result"
    }
   ],
   "source": [
    "# What's the highest reported wage in the data?\n",
    "\n",
    "dc_pums[\"WAGP\"].max()"
   ]
  },
  {
   "cell_type": "code",
   "execution_count": 65,
   "metadata": {},
   "outputs": [
    {
     "data": {
      "text/plain": [
       "count    6610.000000\n",
       "mean       38.352496\n",
       "std        21.845732\n",
       "min         0.000000\n",
       "25%        23.000000\n",
       "50%        34.000000\n",
       "75%        55.000000\n",
       "max        94.000000\n",
       "Name: AGEP, dtype: float64"
      ]
     },
     "execution_count": 65,
     "metadata": {},
     "output_type": "execute_result"
    }
   ],
   "source": [
    "# What's are the descriptive statistics for age?\n",
    "\n",
    "dc_pums[\"AGEP\"].describe()"
   ]
  },
  {
   "cell_type": "markdown",
   "metadata": {},
   "source": [
    "### DataFrame practice\n",
    "\n",
    "How would you find the mean wage for adults age 18 - 25?"
   ]
  },
  {
   "cell_type": "code",
   "execution_count": null,
   "metadata": {
    "collapsed": true
   },
   "outputs": [],
   "source": []
  }
 ],
 "metadata": {
  "kernelspec": {
   "display_name": "Python 3",
   "language": "python",
   "name": "python3"
  },
  "language_info": {
   "codemirror_mode": {
    "name": "ipython",
    "version": 3
   },
   "file_extension": ".py",
   "mimetype": "text/x-python",
   "name": "python",
   "nbconvert_exporter": "python",
   "pygments_lexer": "ipython3",
   "version": "3.6.4"
  }
 },
 "nbformat": 4,
 "nbformat_minor": 2
}
